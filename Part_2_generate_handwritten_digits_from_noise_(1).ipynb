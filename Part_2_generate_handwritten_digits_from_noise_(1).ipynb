{
  "nbformat": 4,
  "nbformat_minor": 0,
  "metadata": {
    "colab": {
      "name": "Part_2_generate_handwritten_digits_from_noise (1).ipynb",
      "provenance": [],
      "collapsed_sections": [],
      "include_colab_link": true
    },
    "kernelspec": {
      "name": "python3",
      "display_name": "Python 3"
    }
  },
  "cells": [
    {
      "cell_type": "markdown",
      "metadata": {
        "id": "view-in-github",
        "colab_type": "text"
      },
      "source": [
        "<a href=\"https://colab.research.google.com/github/AbhiJ2706/generate-images-AI/blob/master/Part_2_generate_handwritten_digits_from_noise_(1).ipynb\" target=\"_parent\"><img src=\"https://colab.research.google.com/assets/colab-badge.svg\" alt=\"Open In Colab\"/></a>"
      ]
    },
    {
      "cell_type": "markdown",
      "metadata": {
        "id": "MIQsaAvd-e8u"
      },
      "source": [
        "**Generative Networks (part 2)- generating a picture of a digit from noise**\n",
        "\n",
        "This neural network can generate pictures of the number 8, given scranbled nonsense (noise) as input. The input would look like nothing in particular to a human, but the output is a picture of the number 8.\n",
        "\n",
        "*How it works*\n",
        "\n",
        "This form of neural network is called a GAN-  a Gain-Adversial Network.\n",
        "\n",
        "The neural network consists of 2 (sub)networks- the generator and the discriminator. A given loop through the network consists of this: \n",
        "- The generator (untrained) tries to create pictures of the number 8 (it creates noise instead)\n",
        "- The discriminator is trained to recognize the number 8 on a very small batch of images (128 images of the number 8 and 128 pictures of noise created by the untrained generator). \n",
        "- The discriminator then becomes untrainable\n",
        "- The generator is then trained to create pictures of the number 8 given noise. The discriminator examines each output the generator creates to check if it indeed looks like the number 8 or not. \n",
        "\n",
        "This process is repeated 1050 times to generate the output. \n",
        "\n",
        "*Data formatting*\n",
        "\n",
        "At the beginning of this project I was training the discriminator once on 16000 data points, and then the generator once on 10000 data points. This did no return good results\n",
        "\n",
        "This barely gets the shape of an 8, but most of it is really just noise. Formatting the data to just use 128 images of 8 and 128 noise and then training it many more times gave better results.\n",
        "\n",
        "*Epoch Number, Dropout and Learning Rate*\n",
        "\n",
        "The number of Epochs is the amount of times you repeat the training process. In the original network (before the data was formatted), the discriminator ran 10 epochs once and then the generator ran 75 epochs, once. Now, both run 1050 in in sequence (so the discriminator runs 1 epoch then the generator, and this is repeated 1050 times). The number 1050 was chosen by testing various numbers of epochs on the data and seeing how close the result was.\n",
        "\n",
        "Dropout is a neural network layer which sets a random fraction of the inputs to the next layer to 0. This is important because it greatly increases the ability for the network to learn seeing as it has less values to concern itself with. Adding a few dropouts to the generator and discriminator greatly increased their ability to recognize shapes. \n",
        "\n",
        "The learning rate is part of a neural network optimizer, an algorithm that makes learning easier on the network. One of its changeable parameters is called the learning rate. Changing this changes the amount by which the weights of the network are altered. Having a learning rate that's too high or low can result in unusable output.\n",
        "\n",
        "Configuring these parameters correctly can result in good output.\n",
        "\n",
        "You can run the code below to see this in action!\n",
        "\n",
        "Abhi\n",
        "\n"
      ]
    },
    {
      "cell_type": "code",
      "metadata": {
        "id": "BXAcvZY6LWKa"
      },
      "source": [
        "#CHANGE THIS TO CHANGE THE DIGIT BEING DRAWN\n",
        "n = 8"
      ],
      "execution_count": 11,
      "outputs": []
    },
    {
      "cell_type": "code",
      "metadata": {
        "id": "5pKJpjF1xsXM",
        "colab": {
          "base_uri": "https://localhost:8080/",
          "height": 901
        },
        "outputId": "4f6ca8c9-d871-426c-bf10-36203104b38b"
      },
      "source": [
        "#import libraries\n",
        "#machine learning libraries\n",
        "from __future__ import absolute_import, division, print_function, unicode_literals\n",
        "import tensorflow as tf\n",
        "from tensorflow import keras\n",
        "from tensorflow.keras import datasets\n",
        "from tensorflow.keras import Model, Sequential\n",
        "from tensorflow.keras.layers import Input, Dense, LeakyReLU, Dropout\n",
        "from tensorflow.keras import initializers\n",
        "from tensorflow.keras.optimizers import Adam\n",
        "#other libraries\n",
        "import numpy as np\n",
        "import random\n",
        "import collections\n",
        "import matplotlib.pyplot as plt\n",
        "\n",
        "plt.rcParams['figure.figsize'] = [10, 8] #configuring graphs \n",
        "\n",
        "(train_images, train_labels), (test_images, test_labels) = datasets.mnist.load_data() #getting train data\n",
        "\n",
        "#making train data and test data neural network friendly (converts images from 28x28 to 1x784)\n",
        "train_images = train_images.reshape((train_images.shape[0], 784)).astype('float32')\n",
        "train_images = train_images / 255\n",
        "\n",
        "test_images = test_images.reshape((test_images.shape[0], 784)).astype('float32')\n",
        "test_images = test_images / 255\n",
        "\n",
        "#Getting pictures of the number 8\n",
        "realData = []\n",
        "\n",
        "for i in range(len(train_images)):\n",
        "  if train_labels[i] == n and len(realData) < 128:\n",
        "    realData.append(train_images[i])\n",
        "\n",
        "realAnswers = [n for i in range(len(realData))]\n",
        "realData = np.array(realData, dtype=\"float\")\n",
        "realAnswers = np.array(realAnswers, dtype=\"float\")\n",
        "\n",
        "print(realData.shape, realAnswers.shape)\n",
        "\n",
        "print(train_images[61].shape)\n",
        "\n",
        "#Generator network\n",
        "model = keras.Sequential([\n",
        "    keras.layers.Dense(256,input_dim=784, activation=tf.nn.relu), #input\n",
        "    #hidden layers\n",
        "    keras.layers.Dropout(0.2),\n",
        "    keras.layers.Dense(432),\n",
        "    keras.layers.Dropout(0.2),\n",
        "    keras.layers.LeakyReLU(0.2),\n",
        "    keras.layers.Dense(1024, activation=tf.nn.leaky_relu),\n",
        "    keras.layers.Dropout(0.2),\n",
        "    keras.layers.LeakyReLU(0.2),\n",
        "    keras.layers.Dense(432),\n",
        "    keras.layers.Dropout(0.2),\n",
        "    keras.layers.LeakyReLU(0.2),\n",
        "    keras.layers.Dense(784, activation=tf.nn.leaky_relu) #output layer\n",
        "])\n",
        "\n",
        "#discriminator network\n",
        "model2 = keras.Sequential([\n",
        "    keras.layers.Dense(784, input_dim=784, activation = tf.nn.tanh), #input\n",
        "    #hidden layers\n",
        "    keras.layers.Dropout(0.2),\n",
        "    keras.layers.Dense(256, activation=tf.nn.tanh),\n",
        "    keras.layers.Dense(60, activation=tf.nn.tanh),\n",
        "    keras.layers.Dense(30, activation=tf.nn.tanh),\n",
        "    keras.layers.Dropout(0.2),\n",
        "    keras.layers.Dense(10, activation=tf.nn.softmax) #output\n",
        "])\n",
        "\n",
        "#compiling models with regular optimizers\n",
        "model.compile(optimizer='adam',\n",
        "              loss='mean_squared_error',\n",
        "              metrics=[\"mean_squared_error\", \"accuracy\"])\n",
        "\n",
        "model2.compile(optimizer='adam',\n",
        "              loss='sparse_categorical_crossentropy',\n",
        "              metrics=[\"accuracy\"])\n",
        "\n",
        "adam = Adam(lr=0.000327, beta_1=0.5) #custom optimizer\n",
        "\n",
        "#Creating the GAN by joing the generator and discriminator\n",
        "model2.trainable = False\n",
        "ganInput = Input(shape=(784,)) #creating input layer for GAN\n",
        "x = model(ganInput) #giving this input layer to generator\n",
        "ganOutput = model2(x) #giving the generator with the new input layer to the discriminator\n",
        "gan = Model(inputs=ganInput, outputs=ganOutput) #creating combined model now that both networks are linked\n",
        "gan.compile(loss='sparse_categorical_crossentropy', optimizer=adam) #compiling combined model with custom optimizer\n",
        "\n",
        "#training network\n",
        "for i in range(1050): #number decided on by testing\n",
        "\n",
        "  print(\"Epoch\", i)\n",
        "  train_noise = np.array([np.random.normal(0,1,size=(784)) for i in range(128)], dtype=\"float\") #creating noise for the generator to predict on\n",
        "  refined_noise = model.predict(train_noise) #more noise created by generator\n",
        "\n",
        "  print(refined_noise.shape, realData.shape)\n",
        "  X = np.concatenate((realData, refined_noise)) #combining 8s and generated noise\n",
        "  y = np.concatenate((realAnswers, np.array([0 for i in range(128)]))) #creating labels\n",
        "\n",
        "  model2.trainable = True\n",
        "  model2.train_on_batch(X, y) #training the discriminator on the created data\n",
        "\n",
        "  #creating more training data for the combined network\n",
        "  X2 = np.array([np.random.normal(0,1,size=(784)) for i in range(256)], dtype=\"float\")\n",
        "  y2 = np.array([n for i in range(256)])\n",
        "\n",
        "  model2.trainable = False #making sure discriminator cannot be trained (we assume it will always be correct now)\n",
        "  gan.train_on_batch(X2, y2) #training the combined network on the training data (only adjusts the generator though)\n"
      ],
      "execution_count": 12,
      "outputs": [
        {
          "output_type": "stream",
          "text": [
            "(128, 784) (128,)\n",
            "(784,)\n",
            "Epoch 0\n",
            "(128, 784) (128, 784)\n",
            "Epoch 1\n",
            "(128, 784) (128, 784)\n",
            "Epoch 2\n",
            "(128, 784) (128, 784)\n",
            "Epoch 3\n",
            "(128, 784) (128, 784)\n",
            "Epoch 4\n",
            "(128, 784) (128, 784)\n",
            "Epoch 5\n",
            "(128, 784) (128, 784)\n",
            "Epoch 6\n",
            "(128, 784) (128, 784)\n",
            "Epoch 7\n",
            "(128, 784) (128, 784)\n",
            "Epoch 8\n",
            "(128, 784) (128, 784)\n",
            "Epoch 9\n",
            "(128, 784) (128, 784)\n",
            "Epoch 10\n",
            "(128, 784) (128, 784)\n",
            "Epoch 11\n",
            "(128, 784) (128, 784)\n",
            "Epoch 12\n",
            "(128, 784) (128, 784)\n",
            "Epoch 13\n",
            "(128, 784) (128, 784)\n"
          ],
          "name": "stdout"
        },
        {
          "output_type": "error",
          "ename": "KeyboardInterrupt",
          "evalue": "ignored",
          "traceback": [
            "\u001b[0;31m---------------------------------------------------------------------------\u001b[0m",
            "\u001b[0;31mKeyboardInterrupt\u001b[0m                         Traceback (most recent call last)",
            "\u001b[0;32m<ipython-input-12-a562b109e18d>\u001b[0m in \u001b[0;36m<module>\u001b[0;34m()\u001b[0m\n\u001b[1;32m    101\u001b[0m \u001b[0;34m\u001b[0m\u001b[0m\n\u001b[1;32m    102\u001b[0m   \u001b[0mmodel2\u001b[0m\u001b[0;34m.\u001b[0m\u001b[0mtrainable\u001b[0m \u001b[0;34m=\u001b[0m \u001b[0;32mTrue\u001b[0m\u001b[0;34m\u001b[0m\u001b[0;34m\u001b[0m\u001b[0m\n\u001b[0;32m--> 103\u001b[0;31m   \u001b[0mmodel2\u001b[0m\u001b[0;34m.\u001b[0m\u001b[0mtrain_on_batch\u001b[0m\u001b[0;34m(\u001b[0m\u001b[0mX\u001b[0m\u001b[0;34m,\u001b[0m \u001b[0my\u001b[0m\u001b[0;34m)\u001b[0m \u001b[0;31m#training the discriminator on the created data\u001b[0m\u001b[0;34m\u001b[0m\u001b[0;34m\u001b[0m\u001b[0m\n\u001b[0m\u001b[1;32m    104\u001b[0m \u001b[0;34m\u001b[0m\u001b[0m\n\u001b[1;32m    105\u001b[0m   \u001b[0;31m#creating more training data for the combined network\u001b[0m\u001b[0;34m\u001b[0m\u001b[0;34m\u001b[0m\u001b[0;34m\u001b[0m\u001b[0m\n",
            "\u001b[0;32m/usr/local/lib/python3.6/dist-packages/tensorflow/python/keras/engine/training.py\u001b[0m in \u001b[0;36mtrain_on_batch\u001b[0;34m(self, x, y, sample_weight, class_weight, reset_metrics, return_dict)\u001b[0m\n\u001b[1;32m   1725\u001b[0m                                                     class_weight)\n\u001b[1;32m   1726\u001b[0m       \u001b[0mself\u001b[0m\u001b[0;34m.\u001b[0m\u001b[0mtrain_function\u001b[0m \u001b[0;34m=\u001b[0m \u001b[0mself\u001b[0m\u001b[0;34m.\u001b[0m\u001b[0mmake_train_function\u001b[0m\u001b[0;34m(\u001b[0m\u001b[0;34m)\u001b[0m\u001b[0;34m\u001b[0m\u001b[0;34m\u001b[0m\u001b[0m\n\u001b[0;32m-> 1727\u001b[0;31m       \u001b[0mlogs\u001b[0m \u001b[0;34m=\u001b[0m \u001b[0mself\u001b[0m\u001b[0;34m.\u001b[0m\u001b[0mtrain_function\u001b[0m\u001b[0;34m(\u001b[0m\u001b[0miterator\u001b[0m\u001b[0;34m)\u001b[0m\u001b[0;34m\u001b[0m\u001b[0;34m\u001b[0m\u001b[0m\n\u001b[0m\u001b[1;32m   1728\u001b[0m \u001b[0;34m\u001b[0m\u001b[0m\n\u001b[1;32m   1729\u001b[0m     \u001b[0;32mif\u001b[0m \u001b[0mreset_metrics\u001b[0m\u001b[0;34m:\u001b[0m\u001b[0;34m\u001b[0m\u001b[0;34m\u001b[0m\u001b[0m\n",
            "\u001b[0;32m/usr/local/lib/python3.6/dist-packages/tensorflow/python/eager/def_function.py\u001b[0m in \u001b[0;36m__call__\u001b[0;34m(self, *args, **kwds)\u001b[0m\n\u001b[1;32m    826\u001b[0m     \u001b[0mtracing_count\u001b[0m \u001b[0;34m=\u001b[0m \u001b[0mself\u001b[0m\u001b[0;34m.\u001b[0m\u001b[0mexperimental_get_tracing_count\u001b[0m\u001b[0;34m(\u001b[0m\u001b[0;34m)\u001b[0m\u001b[0;34m\u001b[0m\u001b[0;34m\u001b[0m\u001b[0m\n\u001b[1;32m    827\u001b[0m     \u001b[0;32mwith\u001b[0m \u001b[0mtrace\u001b[0m\u001b[0;34m.\u001b[0m\u001b[0mTrace\u001b[0m\u001b[0;34m(\u001b[0m\u001b[0mself\u001b[0m\u001b[0;34m.\u001b[0m\u001b[0m_name\u001b[0m\u001b[0;34m)\u001b[0m \u001b[0;32mas\u001b[0m \u001b[0mtm\u001b[0m\u001b[0;34m:\u001b[0m\u001b[0;34m\u001b[0m\u001b[0;34m\u001b[0m\u001b[0m\n\u001b[0;32m--> 828\u001b[0;31m       \u001b[0mresult\u001b[0m \u001b[0;34m=\u001b[0m \u001b[0mself\u001b[0m\u001b[0;34m.\u001b[0m\u001b[0m_call\u001b[0m\u001b[0;34m(\u001b[0m\u001b[0;34m*\u001b[0m\u001b[0margs\u001b[0m\u001b[0;34m,\u001b[0m \u001b[0;34m**\u001b[0m\u001b[0mkwds\u001b[0m\u001b[0;34m)\u001b[0m\u001b[0;34m\u001b[0m\u001b[0;34m\u001b[0m\u001b[0m\n\u001b[0m\u001b[1;32m    829\u001b[0m       \u001b[0mcompiler\u001b[0m \u001b[0;34m=\u001b[0m \u001b[0;34m\"xla\"\u001b[0m \u001b[0;32mif\u001b[0m \u001b[0mself\u001b[0m\u001b[0;34m.\u001b[0m\u001b[0m_experimental_compile\u001b[0m \u001b[0;32melse\u001b[0m \u001b[0;34m\"nonXla\"\u001b[0m\u001b[0;34m\u001b[0m\u001b[0;34m\u001b[0m\u001b[0m\n\u001b[1;32m    830\u001b[0m       \u001b[0mnew_tracing_count\u001b[0m \u001b[0;34m=\u001b[0m \u001b[0mself\u001b[0m\u001b[0;34m.\u001b[0m\u001b[0mexperimental_get_tracing_count\u001b[0m\u001b[0;34m(\u001b[0m\u001b[0;34m)\u001b[0m\u001b[0;34m\u001b[0m\u001b[0;34m\u001b[0m\u001b[0m\n",
            "\u001b[0;32m/usr/local/lib/python3.6/dist-packages/tensorflow/python/eager/def_function.py\u001b[0m in \u001b[0;36m_call\u001b[0;34m(self, *args, **kwds)\u001b[0m\n\u001b[1;32m    853\u001b[0m       \u001b[0;31m# In this case we have created variables on the first call, so we run the\u001b[0m\u001b[0;34m\u001b[0m\u001b[0;34m\u001b[0m\u001b[0;34m\u001b[0m\u001b[0m\n\u001b[1;32m    854\u001b[0m       \u001b[0;31m# defunned version which is guaranteed to never create variables.\u001b[0m\u001b[0;34m\u001b[0m\u001b[0;34m\u001b[0m\u001b[0;34m\u001b[0m\u001b[0m\n\u001b[0;32m--> 855\u001b[0;31m       \u001b[0;32mreturn\u001b[0m \u001b[0mself\u001b[0m\u001b[0;34m.\u001b[0m\u001b[0m_stateless_fn\u001b[0m\u001b[0;34m(\u001b[0m\u001b[0;34m*\u001b[0m\u001b[0margs\u001b[0m\u001b[0;34m,\u001b[0m \u001b[0;34m**\u001b[0m\u001b[0mkwds\u001b[0m\u001b[0;34m)\u001b[0m  \u001b[0;31m# pylint: disable=not-callable\u001b[0m\u001b[0;34m\u001b[0m\u001b[0;34m\u001b[0m\u001b[0m\n\u001b[0m\u001b[1;32m    856\u001b[0m     \u001b[0;32melif\u001b[0m \u001b[0mself\u001b[0m\u001b[0;34m.\u001b[0m\u001b[0m_stateful_fn\u001b[0m \u001b[0;32mis\u001b[0m \u001b[0;32mnot\u001b[0m \u001b[0;32mNone\u001b[0m\u001b[0;34m:\u001b[0m\u001b[0;34m\u001b[0m\u001b[0;34m\u001b[0m\u001b[0m\n\u001b[1;32m    857\u001b[0m       \u001b[0;31m# Release the lock early so that multiple threads can perform the call\u001b[0m\u001b[0;34m\u001b[0m\u001b[0;34m\u001b[0m\u001b[0;34m\u001b[0m\u001b[0m\n",
            "\u001b[0;32m/usr/local/lib/python3.6/dist-packages/tensorflow/python/eager/function.py\u001b[0m in \u001b[0;36m__call__\u001b[0;34m(self, *args, **kwargs)\u001b[0m\n\u001b[1;32m   2941\u001b[0m        filtered_flat_args) = self._maybe_define_function(args, kwargs)\n\u001b[1;32m   2942\u001b[0m     return graph_function._call_flat(\n\u001b[0;32m-> 2943\u001b[0;31m         filtered_flat_args, captured_inputs=graph_function.captured_inputs)  # pylint: disable=protected-access\n\u001b[0m\u001b[1;32m   2944\u001b[0m \u001b[0;34m\u001b[0m\u001b[0m\n\u001b[1;32m   2945\u001b[0m   \u001b[0;34m@\u001b[0m\u001b[0mproperty\u001b[0m\u001b[0;34m\u001b[0m\u001b[0;34m\u001b[0m\u001b[0m\n",
            "\u001b[0;32m/usr/local/lib/python3.6/dist-packages/tensorflow/python/eager/function.py\u001b[0m in \u001b[0;36m_call_flat\u001b[0;34m(self, args, captured_inputs, cancellation_manager)\u001b[0m\n\u001b[1;32m   1917\u001b[0m       \u001b[0;31m# No tape is watching; skip to running the function.\u001b[0m\u001b[0;34m\u001b[0m\u001b[0;34m\u001b[0m\u001b[0;34m\u001b[0m\u001b[0m\n\u001b[1;32m   1918\u001b[0m       return self._build_call_outputs(self._inference_function.call(\n\u001b[0;32m-> 1919\u001b[0;31m           ctx, args, cancellation_manager=cancellation_manager))\n\u001b[0m\u001b[1;32m   1920\u001b[0m     forward_backward = self._select_forward_and_backward_functions(\n\u001b[1;32m   1921\u001b[0m         \u001b[0margs\u001b[0m\u001b[0;34m,\u001b[0m\u001b[0;34m\u001b[0m\u001b[0;34m\u001b[0m\u001b[0m\n",
            "\u001b[0;32m/usr/local/lib/python3.6/dist-packages/tensorflow/python/eager/function.py\u001b[0m in \u001b[0;36mcall\u001b[0;34m(self, ctx, args, cancellation_manager)\u001b[0m\n\u001b[1;32m    558\u001b[0m               \u001b[0minputs\u001b[0m\u001b[0;34m=\u001b[0m\u001b[0margs\u001b[0m\u001b[0;34m,\u001b[0m\u001b[0;34m\u001b[0m\u001b[0;34m\u001b[0m\u001b[0m\n\u001b[1;32m    559\u001b[0m               \u001b[0mattrs\u001b[0m\u001b[0;34m=\u001b[0m\u001b[0mattrs\u001b[0m\u001b[0;34m,\u001b[0m\u001b[0;34m\u001b[0m\u001b[0;34m\u001b[0m\u001b[0m\n\u001b[0;32m--> 560\u001b[0;31m               ctx=ctx)\n\u001b[0m\u001b[1;32m    561\u001b[0m         \u001b[0;32melse\u001b[0m\u001b[0;34m:\u001b[0m\u001b[0;34m\u001b[0m\u001b[0;34m\u001b[0m\u001b[0m\n\u001b[1;32m    562\u001b[0m           outputs = execute.execute_with_cancellation(\n",
            "\u001b[0;32m/usr/local/lib/python3.6/dist-packages/tensorflow/python/eager/execute.py\u001b[0m in \u001b[0;36mquick_execute\u001b[0;34m(op_name, num_outputs, inputs, attrs, ctx, name)\u001b[0m\n\u001b[1;32m     58\u001b[0m     \u001b[0mctx\u001b[0m\u001b[0;34m.\u001b[0m\u001b[0mensure_initialized\u001b[0m\u001b[0;34m(\u001b[0m\u001b[0;34m)\u001b[0m\u001b[0;34m\u001b[0m\u001b[0;34m\u001b[0m\u001b[0m\n\u001b[1;32m     59\u001b[0m     tensors = pywrap_tfe.TFE_Py_Execute(ctx._handle, device_name, op_name,\n\u001b[0;32m---> 60\u001b[0;31m                                         inputs, attrs, num_outputs)\n\u001b[0m\u001b[1;32m     61\u001b[0m   \u001b[0;32mexcept\u001b[0m \u001b[0mcore\u001b[0m\u001b[0;34m.\u001b[0m\u001b[0m_NotOkStatusException\u001b[0m \u001b[0;32mas\u001b[0m \u001b[0me\u001b[0m\u001b[0;34m:\u001b[0m\u001b[0;34m\u001b[0m\u001b[0;34m\u001b[0m\u001b[0m\n\u001b[1;32m     62\u001b[0m     \u001b[0;32mif\u001b[0m \u001b[0mname\u001b[0m \u001b[0;32mis\u001b[0m \u001b[0;32mnot\u001b[0m \u001b[0;32mNone\u001b[0m\u001b[0;34m:\u001b[0m\u001b[0;34m\u001b[0m\u001b[0;34m\u001b[0m\u001b[0m\n",
            "\u001b[0;31mKeyboardInterrupt\u001b[0m: "
          ]
        }
      ]
    },
    {
      "cell_type": "code",
      "metadata": {
        "id": "5937YXBs-aK3",
        "colab": {
          "base_uri": "https://localhost:8080/",
          "height": 483
        },
        "outputId": "f6e3b889-d840-43ff-e82f-957b3052584b"
      },
      "source": [
        "'''\n",
        "This piece of code makes the generator create 8s given noise (it's already trained) and dispays the result \n",
        "'''\n",
        "\n",
        "noise = np.random.normal(0, 1, size=[10000, 784])\n",
        "generatedImages = model.predict(noise)\n",
        "\n",
        "generatedImages = generatedImages.reshape(10000, 28, 28)\n",
        "\n",
        "plt.imshow(generatedImages[0])\n",
        "plt.show()"
      ],
      "execution_count": null,
      "outputs": [
        {
          "output_type": "display_data",
          "data": {
            "image/png": "[encoded data removed]",
            "text/plain": [
              "<Figure size 720x576 with 1 Axes>"
            ]
          },
          "metadata": {
            "tags": [],
            "needs_background": "light"
          }
        }
      ]
    }
  ]
}